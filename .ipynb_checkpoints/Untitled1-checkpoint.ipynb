{
 "cells": [
  {
   "cell_type": "code",
   "execution_count": 1,
   "id": "985bff5d-f4f0-49bd-8dad-7bd583bb85f7",
   "metadata": {},
   "outputs": [
    {
     "name": "stdout",
     "output_type": "stream",
     "text": [
      "Requirement already satisfied: nltk in d:\\python interpreter\\lib\\site-packages (3.8.1)\n",
      "Requirement already satisfied: click in d:\\python interpreter\\lib\\site-packages (from nltk) (8.1.7)\n",
      "Requirement already satisfied: joblib in d:\\python interpreter\\lib\\site-packages (from nltk) (1.3.2)\n",
      "Requirement already satisfied: regex>=2021.8.3 in d:\\python interpreter\\lib\\site-packages (from nltk) (2023.12.25)\n",
      "Requirement already satisfied: tqdm in d:\\python interpreter\\lib\\site-packages (from nltk) (4.66.2)\n",
      "Requirement already satisfied: colorama in d:\\python interpreter\\lib\\site-packages (from click->nltk) (0.4.6)\n",
      "Note: you may need to restart the kernel to use updated packages.\n"
     ]
    },
    {
     "name": "stderr",
     "output_type": "stream",
     "text": [
      "WARNING: Ignoring invalid distribution -ip (d:\\python interpreter\\lib\\site-packages)\n",
      "WARNING: Ignoring invalid distribution -ip (d:\\python interpreter\\lib\\site-packages)\n"
     ]
    }
   ],
   "source": [
    "pip install nltk"
   ]
  },
  {
   "cell_type": "code",
   "execution_count": 2,
   "id": "1449162c-cfd5-466d-ac57-b575b4b73580",
   "metadata": {},
   "outputs": [
    {
     "name": "stdout",
     "output_type": "stream",
     "text": [
      "Requirement already satisfied: pandas in d:\\python interpreter\\lib\\site-packages (2.2.0)\n",
      "Requirement already satisfied: numpy<2,>=1.22.4 in d:\\python interpreter\\lib\\site-packages (from pandas) (1.25.2)\n",
      "Requirement already satisfied: python-dateutil>=2.8.2 in d:\\python interpreter\\lib\\site-packages (from pandas) (2.8.2)\n",
      "Requirement already satisfied: pytz>=2020.1 in d:\\python interpreter\\lib\\site-packages (from pandas) (2024.1)\n",
      "Requirement already satisfied: tzdata>=2022.7 in d:\\python interpreter\\lib\\site-packages (from pandas) (2024.1)\n",
      "Requirement already satisfied: six>=1.5 in d:\\python interpreter\\lib\\site-packages (from python-dateutil>=2.8.2->pandas) (1.16.0)\n",
      "Note: you may need to restart the kernel to use updated packages.\n"
     ]
    },
    {
     "name": "stderr",
     "output_type": "stream",
     "text": [
      "WARNING: Ignoring invalid distribution -ip (d:\\python interpreter\\lib\\site-packages)\n",
      "WARNING: Ignoring invalid distribution -ip (d:\\python interpreter\\lib\\site-packages)\n"
     ]
    }
   ],
   "source": [
    "pip install pandas"
   ]
  },
  {
   "cell_type": "code",
   "execution_count": 3,
   "id": "c32468df-c0a9-4f3c-8dc7-b213f7f6cabf",
   "metadata": {},
   "outputs": [
    {
     "name": "stdout",
     "output_type": "stream",
     "text": [
      "Requirement already satisfied: pyttsx3 in d:\\python interpreter\\lib\\site-packages (2.90)\n",
      "Requirement already satisfied: comtypes in d:\\python interpreter\\lib\\site-packages (from pyttsx3) (1.3.0)\n",
      "Requirement already satisfied: pypiwin32 in d:\\python interpreter\\lib\\site-packages (from pyttsx3) (223)\n",
      "Requirement already satisfied: pywin32 in d:\\python interpreter\\lib\\site-packages (from pyttsx3) (303)\n",
      "Note: you may need to restart the kernel to use updated packages.\n"
     ]
    },
    {
     "name": "stderr",
     "output_type": "stream",
     "text": [
      "WARNING: Ignoring invalid distribution -ip (d:\\python interpreter\\lib\\site-packages)\n",
      "WARNING: Ignoring invalid distribution -ip (d:\\python interpreter\\lib\\site-packages)\n"
     ]
    }
   ],
   "source": [
    "pip install pyttsx3"
   ]
  },
  {
   "cell_type": "code",
   "execution_count": 4,
   "id": "5483e0e5-1476-4cc0-868f-4bd70d2d0284",
   "metadata": {},
   "outputs": [
    {
     "name": "stdout",
     "output_type": "stream",
     "text": [
      "Requirement already satisfied: scikit-learn in d:\\python interpreter\\lib\\site-packages (1.4.1.post1)\n",
      "Requirement already satisfied: numpy<2.0,>=1.19.5 in d:\\python interpreter\\lib\\site-packages (from scikit-learn) (1.25.2)\n",
      "Requirement already satisfied: scipy>=1.6.0 in d:\\python interpreter\\lib\\site-packages (from scikit-learn) (1.11.4)\n",
      "Requirement already satisfied: joblib>=1.2.0 in d:\\python interpreter\\lib\\site-packages (from scikit-learn) (1.3.2)\n",
      "Requirement already satisfied: threadpoolctl>=2.0.0 in d:\\python interpreter\\lib\\site-packages (from scikit-learn) (3.3.0)\n",
      "Note: you may need to restart the kernel to use updated packages.\n"
     ]
    },
    {
     "name": "stderr",
     "output_type": "stream",
     "text": [
      "WARNING: Ignoring invalid distribution -ip (d:\\python interpreter\\lib\\site-packages)\n",
      "WARNING: Ignoring invalid distribution -ip (d:\\python interpreter\\lib\\site-packages)\n"
     ]
    }
   ],
   "source": [
    "pip install scikit-learn"
   ]
  },
  {
   "cell_type": "code",
   "execution_count": 5,
   "id": "aa2810e1-ad72-4cbe-90e9-e9515c93a847",
   "metadata": {},
   "outputs": [
    {
     "name": "stdout",
     "output_type": "stream",
     "text": [
      "Note: you may need to restart the kernel to use updated packages.\n"
     ]
    },
    {
     "name": "stderr",
     "output_type": "stream",
     "text": [
      "WARNING: Ignoring invalid distribution -ip (d:\\python interpreter\\lib\\site-packages)\n",
      "ERROR: Could not find a version that satisfies the requirement sklearn.svm (from versions: none)\n",
      "ERROR: No matching distribution found for sklearn.svm\n"
     ]
    }
   ],
   "source": [
    "pip install sklearn.svm"
   ]
  },
  {
   "cell_type": "code",
   "execution_count": 8,
   "id": "7481fa2f-a708-424f-b588-e07972a845c7",
   "metadata": {},
   "outputs": [
    {
     "name": "stdout",
     "output_type": "stream",
     "text": [
      "Requirement already satisfied: numpy in d:\\python interpreter\\lib\\site-packages (1.25.2)\n",
      "Note: you may need to restart the kernel to use updated packages.\n"
     ]
    },
    {
     "name": "stderr",
     "output_type": "stream",
     "text": [
      "WARNING: Ignoring invalid distribution -ip (d:\\python interpreter\\lib\\site-packages)\n",
      "WARNING: Ignoring invalid distribution -ip (d:\\python interpreter\\lib\\site-packages)\n"
     ]
    }
   ],
   "source": [
    "pip install numpy\n"
   ]
  },
  {
   "cell_type": "code",
   "execution_count": 2,
   "id": "1ea043cf-9d9d-47cd-a6f2-4fc7618daa2f",
   "metadata": {},
   "outputs": [
    {
     "name": "stdout",
     "output_type": "stream",
     "text": [
      "-----------------------------------HealthCare ChatBot-----------------------------------\n",
      "\n",
      "Your Name? \t\t\t\t->"
     ]
    },
    {
     "name": "stdin",
     "output_type": "stream",
     "text": [
      " bhanu\n"
     ]
    },
    {
     "name": "stdout",
     "output_type": "stream",
     "text": [
      "Hello, bhanu\n",
      "\n",
      "Enter the symptom you are experiencing: ->"
     ]
    },
    {
     "name": "stdin",
     "output_type": "stream",
     "text": [
      " fever\n"
     ]
    },
    {
     "name": "stdout",
     "output_type": "stream",
     "text": [
      "Searches related to input: \n",
      "0 ) high_fever\n",
      "1 ) mild_fever\n",
      "Select the one you meant (0 - 1): "
     ]
    },
    {
     "name": "stdin",
     "output_type": "stream",
     "text": [
      " 0\n",
      "From how many days are you experiencing this? :  5\n"
     ]
    },
    {
     "name": "stdout",
     "output_type": "stream",
     "text": [
      "Are you experiencing any of these symptoms?\n",
      "muscle_weakness ? : "
     ]
    },
    {
     "name": "stdin",
     "output_type": "stream",
     "text": [
      " yes\n"
     ]
    },
    {
     "name": "stdout",
     "output_type": "stream",
     "text": [
      "stiff_neck ? : "
     ]
    },
    {
     "name": "stdin",
     "output_type": "stream",
     "text": [
      " no\n"
     ]
    },
    {
     "name": "stdout",
     "output_type": "stream",
     "text": [
      "swelling_joints ? : "
     ]
    },
    {
     "name": "stdin",
     "output_type": "stream",
     "text": [
      " no\n"
     ]
    },
    {
     "name": "stdout",
     "output_type": "stream",
     "text": [
      "movement_stiffness ? : "
     ]
    },
    {
     "name": "stdin",
     "output_type": "stream",
     "text": [
      " no\n"
     ]
    },
    {
     "name": "stdout",
     "output_type": "stream",
     "text": [
      "painful_walking ? : "
     ]
    },
    {
     "name": "stdin",
     "output_type": "stream",
     "text": [
      " no\n"
     ]
    },
    {
     "name": "stderr",
     "output_type": "stream",
     "text": [
      "D:\\PYTHON INTERPRETER\\lib\\site-packages\\sklearn\\base.py:493: UserWarning: X does not have valid feature names, but DecisionTreeClassifier was fitted with feature names\n",
      "  warnings.warn(\n"
     ]
    },
    {
     "name": "stdout",
     "output_type": "stream",
     "text": [
      "It might not be that bad, but you should take precautions.\n",
      "You may have  Arthritis or (vertigo) Paroymsal  Positional Vertigo\n",
      "Arthritis is the swelling and tenderness of one or more of your joints. The main symptoms of arthritis are joint pain and stiffness, which typically worsen with age. The most common types of arthritis are osteoarthritis and rheumatoid arthritis.\n",
      "Benign paroxysmal positional vertigo (BPPV) is one of the most common causes of vertigo â€” the sudden sensation that you're spinning or that the inside of your head is spinning. Benign paroxysmal positional vertigo causes brief episodes of mild to intense dizziness.\n",
      "Take the following measures : \n",
      "1 ) exercise\n",
      "2 ) use hot and cold therapy\n",
      "3 ) try acupuncture\n",
      "4 ) massage\n"
     ]
    },
    {
     "name": "stdin",
     "output_type": "stream",
     "text": [
      "Enter your district:  Kadapa\n"
     ]
    },
    {
     "name": "stdout",
     "output_type": "stream",
     "text": [
      "Recommended Hospital: Sunrise Hospital\n",
      "----------------------------------------------------------------------------------------\n"
     ]
    }
   ],
   "source": [
    "import re\n",
    "import pandas as pd\n",
    "import pyttsx3\n",
    "from sklearn import preprocessing\n",
    "from sklearn.tree import DecisionTreeClassifier, _tree\n",
    "from sklearn.model_selection import train_test_split\n",
    "from sklearn.svm import SVC  # Add this import\n",
    "import numpy as np\n",
    "import csv\n",
    "\n",
    "# Hospital data for Andhra Pradesh\n",
    "hospital_data = {\n",
    "    \"Guntur\": {\n",
    "        \"Fungal infection\": \"Ramesh Hospitals\",\n",
    "        \"Allergy\": \"Sri Venkateswara Hospitals\",\n",
    "        \"GERD\": \"Guntur Medical College Hospital\",\n",
    "        \"Chronic cholestasis\": \"Sri Raghava Hospital\",\n",
    "        \"Drug Reaction\": \"Guntur General Hospital\",\n",
    "        \"Peptic ulcer disease\": \"Sri Raghava Hospital\",\n",
    "        \"AIDS\": \"Andhra Hospitals\",\n",
    "        \"Diabetes\": \"Sri Ram Hospitals\",  # Updated hospital for Diabetes\n",
    "        \"Gastroenteritis\": \"Sri Raghava Hospital\",\n",
    "        \"Bronchial Asthma\": \"Guntur Medical College Hospital\",\n",
    "        \"Hypertension\": \"Sri Raghava Hospital\",\n",
    "        \"Migraine\": \"Guntur Medical College Hospital\",\n",
    "        \"Cervical spondylosis\": \"Sri Raghava Hospital\",\n",
    "        \"Paralysis (brain hemorrhage)\": \"Sri Raghava Hospital\",\n",
    "        \"Jaundice\": \"Guntur General Hospital\",\n",
    "        \"Malaria\": \"Sri Venkateswara Hospitals\",\n",
    "        \"Chickenpox\": \"Guntur Medical College Hospital\",\n",
    "        \"Dengue\": \"Andhra Hospitals\",\n",
    "        \"Typhoid\": \"Andhra Hospitals\",\n",
    "        \"Hepatitis A\": \"Andhra Hospitals\",\n",
    "        \"Hepatitis B\": \"Andhra Hospitals\",\n",
    "        \"Hepatitis C\": \"Andhra Hospitals\",\n",
    "        \"Hepatitis D\": \"Andhra Hospitals\",\n",
    "        \"Hepatitis E\": \"Andhra Hospitals\",\n",
    "        \"Alcoholic hepatitis\": \"Sri Raghava Hospital\",\n",
    "        \"Tuberculosis\": \"Guntur Medical College Hospital\",\n",
    "        \"Common Cold\": \"Sri Venkateswara Hospitals\",\n",
    "        \"Pneumonia\": \"Guntur General Hospital\",\n",
    "        \"Dimorphic hemmorhoids (piles)\": \"Sri Raghava Hospital\",\n",
    "        \"Heart attack\": \"Guntur Medical College Hospital\",\n",
    "        \"Varicose veins\": \"Sri Venkateswara Hospitals\",\n",
    "        \"Hypothyroidism\": \"Guntur General Hospital\",\n",
    "        \"Hyperthyroidism\": \"Sri Venkateswara Hospitals\",\n",
    "        \"Hypoglycemia\": \"Sri Venkateswara Hospitals\",\n",
    "        \"Osteoarthritis\": \"Sri Raghava Hospital\",\n",
    "        \"Arthritis\": \"Sri Raghava Hospital\",\n",
    "        \"(Vertigo) Paroxysmal Positional Vertigo\": \"Guntur Medical College Hospital\",\n",
    "        \"Acne\": \"Sri Venkateswara Hospitals\",\n",
    "        \"Urinary tract infection\": \"Sri Venkateswara Hospitals\",\n",
    "        \"Psoriasis\": \"Sri Venkateswara Hospitals\",\n",
    "        \"Impetigo\": \"Guntur Medical College Hospital\"\n",
    "    },\n",
    "    \"Vijayawada\": {\n",
    "        \"Fungal infection\": \"Vijayawada Health Clinic\",\n",
    "        \"Allergy\": \"Lotus Hospitals\",\n",
    "        \"GERD\": \"Vijayawada Medical Center\",\n",
    "        \"Chronic cholestasis\": \"Sunshine Hospital\",\n",
    "        \"Drug Reaction\": \"Vijayawada General Hospital\",\n",
    "        \"Peptic ulcer disease\": \"Sunshine Hospital\",\n",
    "        \"AIDS\": \"Andhra Hospitals\",\n",
    "        \"Diabetes\": \"Sunrise Hospitals\",\n",
    "        \"Gastroenteritis\": \"Sunshine Hospital\",\n",
    "        \"Bronchial Asthma\": \"Vijayawada Medical Center\",\n",
    "        \"Hypertension\": \"Sunshine Hospital\",\n",
    "        \"Migraine\": \"Vijayawada Medical Center\",\n",
    "        \"Cervical spondylosis\": \"Sunshine Hospital\",\n",
    "        \"Paralysis (brain hemorrhage)\": \"Sunshine Hospital\",\n",
    "        \"Jaundice\": \"Vijayawada General Hospital\",\n",
    "        \"Malaria\": \"Lotus Hospitals\",\n",
    "        \"Chickenpox\": \"Vijayawada Medical Center\",\n",
    "        \"Dengue\": \"Andhra Hospitals\",\n",
    "        \"Typhoid\": \"Andhra Hospitals\",\n",
    "        \"Hepatitis A\": \"Andhra Hospitals\",\n",
    "        \"Hepatitis B\": \"Andhra Hospitals\",\n",
    "        \"Hepatitis C\": \"Andhra Hospitals\",\n",
    "        \"Hepatitis D\": \"Andhra Hospitals\",\n",
    "        \"Hepatitis E\": \"Andhra Hospitals\",\n",
    "        \"Alcoholic hepatitis\": \"Sunshine Hospital\",\n",
    "        \"Tuberculosis\": \"Vijayawada Medical Center\",\n",
    "        \"Common Cold\": \"Lotus Hospitals\",\n",
    "        \"Pneumonia\": \"Vijayawada General Hospital\",\n",
    "        \"Dimorphic hemmorhoids (piles)\": \"Sunshine Hospital\",\n",
    "        \"Heart attack\": \"Vijayawada Medical Center\",\n",
    "        \"Varicose veins\": \"Lotus Hospitals\",\n",
    "        \"Hypothyroidism\": \"Vijayawada General Hospital\",\n",
    "        \"Hyperthyroidism\": \"Lotus Hospitals\",\n",
    "        \"Hypoglycemia\": \"Lotus Hospitals\",\n",
    "        \"Osteoarthritis\": \"Sunshine Hospital\",\n",
    "        \"Arthritis\": \"Sunshine Hospital\",\n",
    "        \"(Vertigo) Paroxysmal Positional Vertigo\": \"Vijayawada Medical Center\",\n",
    "        \"Acne\": \"Lotus Hospitals\",\n",
    "        \"Urinary tract infection\": \"Lotus Hospitals\",\n",
    "        \"Psoriasis\": \"Lotus Hospitals\",\n",
    "        \"Impetigo\": \"Vijayawada Medical Center\"\n",
    "    },\n",
    "    \"Kadapa\":{\n",
    "        \"Fungal infection\": \"Sri Sai Hospitals\",\n",
    "        \"Allergy\": \"Kadapa Health Clinic\",\n",
    "        \"GERD\": \"Sri Sai Medical Center\",\n",
    "        \"Chronic cholestasis\": \"Sunrise Hospital\",\n",
    "        \"Drug Reaction\": \"Kadapa General Hospital\",\n",
    "        \"Peptic ulcer disease\": \"Sunrise Hospital\",\n",
    "        \"AIDS\": \"Andhra Hospitals\",\n",
    "        \"Diabetes\": \"Sri Sai Hospitals\",\n",
    "        \"Gastroenteritis\": \"Sunrise Hospital\",\n",
    "        \"Bronchial Asthma\": \"Sri Sai Medical Center\",\n",
    "        \"Hypertension\": \"Sunrise Hospital\",\n",
    "        \"Migraine\": \"Sri Sai Medical Center\",\n",
    "        \"Cervical spondylosis\": \"Sunrise Hospital\",\n",
    "        \"Paralysis (brain hemorrhage)\": \"Sunrise Hospital\",\n",
    "        \"Jaundice\": \"Kadapa General Hospital\",\n",
    "        \"Malaria\": \"Kadapa Health Clinic\",\n",
    "        \"Chickenpox\": \"Sri Sai Medical Center\",\n",
    "        \"Dengue\": \"Andhra Hospitals\",\n",
    "        \"Typhoid\": \"Andhra Hospitals\",\n",
    "        \"Hepatitis A\": \"Andhra Hospitals\",\n",
    "        \"Hepatitis B\": \"Andhra Hospitals\",\n",
    "        \"Hepatitis C\": \"Andhra Hospitals\",\n",
    "        \"Hepatitis D\": \"Andhra Hospitals\",\n",
    "        \"Hepatitis E\": \"Andhra Hospitals\",\n",
    "        \"Alcoholic hepatitis\": \"Sunrise Hospital\",\n",
    "        \"Tuberculosis\": \"Sri Sai Medical Center\",\n",
    "        \"Common Cold\": \"Kadapa Health Clinic\",\n",
    "        \"Pneumonia\": \"Kadapa General Hospital\",\n",
    "        \"Dimorphic hemmorhoids (piles)\": \"Sunrise Hospital\",\n",
    "        \"Heart attack\": \"Sri Sai Medical Center\",\n",
    "        \"Varicose veins\": \"Kadapa Health Clinic\",\n",
    "        \"Hypothyroidism\": \"Kadapa General Hospital\",\n",
    "        \"Hyperthyroidism\": \"Kadapa Health Clinic\",\n",
    "        \"Hypoglycemia\": \"Kadapa Health Clinic\",\n",
    "        \"Osteoarthritis\": \"Sunrise Hospital\",\n",
    "        \"Arthritis\": \"Sunrise Hospital\",\n",
    "        \"(Vertigo) Paroxysmal Positional Vertigo\": \"Sri Sai Medical Center\",\n",
    "        \"Acne\": \"Kadapa Health Clinic\",\n",
    "        \"Urinary tract infection\": \"Kadapa Health Clinic\",\n",
    "        \"Psoriasis\": \"Kadapa Health Clinic\",\n",
    "        \"Impetigo\": \"Sri Sai Medical Center\"\n",
    "    },\n",
    "    \"Palnadu\":{\n",
    "        \"Fungal infection\": \"Palnadu Hospitals\",\n",
    "        \"Allergy\": \"Palnadu Health Center\",\n",
    "        \"GERD\": \"Palnadu Medical College Hospital\",\n",
    "        \"Chronic cholestasis\": \"Sri Raghava Hospital\",\n",
    "        \"Drug Reaction\": \"Palnadu General Hospital\",\n",
    "        \"Peptic ulcer disease\": \"Sri Raghava Hospital\",\n",
    "        \"AIDS\": \"Andhra Hospitals\",\n",
    "        \"Diabetes\": \"Palnadu Medical Center\",\n",
    "        \"Gastroenteritis\": \"Sri Raghava Hospital\",\n",
    "        \"Bronchial Asthma\": \"Palnadu Medical College Hospital\",\n",
    "        \"Hypertension\": \"Sri Raghava Hospital\",\n",
    "        \"Migraine\": \"Palnadu Medical College Hospital\",\n",
    "        \"Cervical spondylosis\": \"Sri Raghava Hospital\",\n",
    "        \"Paralysis (brain hemorrhage)\": \"Sri Raghava Hospital\",\n",
    "        \"Jaundice\": \"Palnadu General Hospital\",\n",
    "        \"Malaria\": \"Palnadu Health Center\",\n",
    "        \"Chickenpox\": \"Palnadu Medical College Hospital\",\n",
    "        \"Dengue\": \"Andhra Hospitals\",\n",
    "        \"Typhoid\": \"Andhra Hospitals\",\n",
    "        \"Hepatitis A\": \"Andhra Hospitals\",\n",
    "        \"Hepatitis B\": \"Andhra Hospitals\",\n",
    "        \"Hepatitis C\": \"Andhra Hospitals\",\n",
    "        \"Hepatitis D\": \"Andhra Hospitals\",\n",
    "        \"Hepatitis E\": \"Andhra Hospitals\",\n",
    "        \"Alcoholic hepatitis\": \"Sri Raghava Hospital\",\n",
    "        \"Tuberculosis\": \"Palnadu Medical College Hospital\",\n",
    "        \"Common Cold\": \"Palnadu Health Center\",\n",
    "        \"Pneumonia\": \"Palnadu General Hospital\",\n",
    "        \"Dimorphic hemmorhoids (piles)\": \"Sri Raghava Hospital\",\n",
    "        \"Heart attack\": \"Palnadu Medical College Hospital\",\n",
    "        \"Varicose veins\": \"Palnadu Health Center\",\n",
    "        \"Hypothyroidism\": \"Palnadu General Hospital\",\n",
    "        \"Hyperthyroidism\": \"Palnadu Health Center\",\n",
    "        \"Hypoglycemia\": \"Palnadu Health Center\",\n",
    "        \"Osteoarthritis\": \"Sri Raghava Hospital\",\n",
    "        \"Arthritis\": \"Sri Raghava Hospital\",\n",
    "        \"(Vertigo) Paroxysmal Positional Vertigo\": \"Palnadu Medical College Hospital\",\n",
    "        \"Acne\": \"Palnadu Health Center\",\n",
    "        \"Urinary tract infection\": \"Palnadu Health Center\",\n",
    "        \"Psoriasis\": \"Palnadu Health Center\",\n",
    "        \"Impetigo\": \"Palnadu Medical College Hospital\"\n",
    "    },\n",
    "        \"West Godavari\":{\n",
    "        \"Fungal infection\": \"West Godavari Hospitals\",\n",
    "        \"Allergy\": \"West Godavari Health Center\",\n",
    "        \"GERD\": \"West Godavari Medical College Hospital\",\n",
    "        \"Chronic cholestasis\": \"Sri Raghava Hospital\",\n",
    "        \"Drug Reaction\": \"West Godavari General Hospital\",\n",
    "        \"Peptic ulcer disease\": \"Sri Raghava Hospital\",\n",
    "        \"AIDS\": \"Andhra Hospitals\",\n",
    "        \"Diabetes\": \"West Godavari Medical Center\",\n",
    "        \"Gastroenteritis\": \"Sri Raghava Hospital\",\n",
    "        \"Bronchial Asthma\": \"West Godavari Medical College Hospital\",\n",
    "        \"Hypertension\": \"Sri Raghava Hospital\",\n",
    "        \"Migraine\": \"West Godavari Medical College Hospital\",\n",
    "        \"Cervical spondylosis\": \"Sri Raghava Hospital\",\n",
    "        \"Paralysis (brain hemorrhage)\": \"Sri Raghava Hospital\",\n",
    "        \"Jaundice\": \"West Godavari General Hospital\",\n",
    "        \"Malaria\": \"West Godavari Health Center\",\n",
    "        \"Chickenpox\": \"West Godavari Medical College Hospital\",\n",
    "        \"Dengue\": \"Andhra Hospitals\",\n",
    "        \"Typhoid\": \"Andhra Hospitals\",\n",
    "        \"Hepatitis A\": \"Andhra Hospitals\",\n",
    "        \"Hepatitis B\": \"Andhra Hospitals\",\n",
    "        \"Hepatitis C\": \"Andhra Hospitals\",\n",
    "        \"Hepatitis D\": \"Andhra Hospitals\",\n",
    "        \"Hepatitis E\": \"Andhra Hospitals\",\n",
    "        \"Alcoholic hepatitis\": \"Sri Raghava Hospital\",\n",
    "        \"Tuberculosis\": \"West Godavari Medical College Hospital\",\n",
    "        \"Common Cold\": \"West Godavari Health Center\",\n",
    "        \"Pneumonia\": \"West Godavari General Hospital\",\n",
    "        \"Dimorphic hemmorhoids (piles)\": \"Sri Raghava Hospital\",\n",
    "        \"Heart attack\": \"West Godavari Medical College Hospital\",\n",
    "        \"Varicose veins\": \"West Godavari Health Center\",\n",
    "        \"Hypothyroidism\": \"West Godavari General Hospital\",\n",
    "        \"Hyperthyroidism\": \"West Godavari Health Center\",\n",
    "        \"Hypoglycemia\": \"West Godavari Health Center\",\n",
    "        \"Osteoarthritis\": \"Sri Raghava Hospital\",\n",
    "        \"Arthritis\": \"Sri Raghava Hospital\",\n",
    "        \"(Vertigo) Paroxysmal Positional Vertigo\": \"West Godavari Medical College Hospital\",\n",
    "        \"Acne\": \"West Godavari Health Center\",\n",
    "        \"Urinary tract infection\": \"West Godavari Health Center\",\n",
    "        \"Psoriasis\": \"West Godavari Health Center\",\n",
    "        \"Impetigo\": \"West Godavari Medical College Hospital\"\n",
    "    }\n",
    "    # Add more districts with hospitals for diseases as needed\n",
    "}\n",
    "\n",
    "training = pd.read_csv('Training.csv')\n",
    "testing = pd.read_csv('Testing.csv')\n",
    "cols = training.columns[:-1]\n",
    "x = training[cols]\n",
    "y = training['prognosis']\n",
    "y1 = y\n",
    "\n",
    "reduced_data = training.groupby(training['prognosis']).max()\n",
    "\n",
    "# Mapping strings to numbers\n",
    "le = preprocessing.LabelEncoder()\n",
    "le.fit(y)\n",
    "y = le.transform(y)\n",
    "\n",
    "x_train, x_test, y_train, y_test = train_test_split(x, y, test_size=0.33, random_state=42)\n",
    "testx = testing[cols]\n",
    "testy = testing['prognosis']\n",
    "testy = le.transform(testy)\n",
    "\n",
    "clf = DecisionTreeClassifier()\n",
    "clf.fit(x_train, y_train)\n",
    "\n",
    "model = SVC()  # Fixed the import here\n",
    "model.fit(x_train, y_train)\n",
    "\n",
    "importances = clf.feature_importances_\n",
    "indices = np.argsort(importances)[::-1]\n",
    "features = cols\n",
    "\n",
    "def readn(nstr):\n",
    "    engine = pyttsx3.init()\n",
    "    engine.setProperty('voice', \"english+f5\")\n",
    "    engine.setProperty('rate', 130)\n",
    "    engine.say(nstr)\n",
    "    engine.runAndWait()\n",
    "    engine.stop()\n",
    "\n",
    "severityDictionary = dict()\n",
    "description_list = dict()\n",
    "precautionDictionary = dict()\n",
    "\n",
    "symptoms_dict = {}\n",
    "\n",
    "for index, symptom in enumerate(x):\n",
    "    symptoms_dict[symptom] = index\n",
    "\n",
    "def calc_condition(exp, days):\n",
    "    sum = 0\n",
    "    for item in exp:\n",
    "        sum += severityDictionary[item]\n",
    "    if (sum * days) / (len(exp) + 1) > 13:\n",
    "        print(\"You should take the consultation from a doctor.\")\n",
    "    else:\n",
    "        print(\"It might not be that bad, but you should take precautions.\")\n",
    "\n",
    "def getDescription():\n",
    "    global description_list\n",
    "    with open('symptom_Description.csv') as csv_file:\n",
    "        csv_reader = csv.reader(csv_file, delimiter=',')\n",
    "        for row in csv_reader:\n",
    "            if row:  # Check if the row is not empty\n",
    "                _description = {row[0]: row[1]}\n",
    "                description_list.update(_description)\n",
    "\n",
    "def getSeverityDict():\n",
    "    global severityDictionary\n",
    "    with open('Symptom_severity.csv') as csv_file:\n",
    "        csv_reader = csv.reader(csv_file, delimiter=',')\n",
    "        for row in csv_reader:\n",
    "            if row and len(row) == 2:  # Check if row is not empty and has two columns\n",
    "                _diction = {row[0]: int(row[1])}\n",
    "                severityDictionary.update(_diction)\n",
    "\n",
    "def getprecautionDict():\n",
    "    global precautionDictionary\n",
    "    with open('symptom_precaution.csv') as csv_file:\n",
    "        csv_reader = csv.reader(csv_file, delimiter=',')\n",
    "        for row in csv_reader:\n",
    "            if row and len(row) == 5:  # Check if row is not empty and has five columns\n",
    "                _prec = {row[0]: [row[1], row[2], row[3], row[4]]}\n",
    "                precautionDictionary.update(_prec)\n",
    "\n",
    "def getInfo():\n",
    "    print(\"-----------------------------------HealthCare ChatBot-----------------------------------\")\n",
    "    print(\"\\nYour Name? \\t\\t\\t\\t\", end=\"->\")\n",
    "    name = input(\"\")\n",
    "    print(\"Hello,\", name)\n",
    "\n",
    "def check_pattern(dis_list, inp):\n",
    "    pred_list = []\n",
    "    inp = inp.replace(' ', '_')\n",
    "    patt = f\"{inp}\"\n",
    "    regexp = re.compile(patt)\n",
    "    pred_list = [item for item in dis_list if regexp.search(item)]\n",
    "    if len(pred_list) > 0:\n",
    "        return 1, pred_list\n",
    "    else:\n",
    "        return 0, []\n",
    "\n",
    "def sec_predict(symptoms_exp):\n",
    "    df = pd.read_csv('Training.csv')\n",
    "    X = df.iloc[:, :-1]\n",
    "    y = df['prognosis']\n",
    "    X_train, X_test, y_train, y_test = train_test_split(X, y, test_size=0.3, random_state=20)\n",
    "    rf_clf = DecisionTreeClassifier()\n",
    "    rf_clf.fit(X_train, y_train)\n",
    "\n",
    "    symptoms_dict = {symptom: index for index, symptom in enumerate(X)}\n",
    "    input_vector = np.zeros(len(symptoms_dict))\n",
    "    for item in symptoms_exp:\n",
    "        input_vector[[symptoms_dict[item]]] = 1\n",
    "\n",
    "    return rf_clf.predict([input_vector])\n",
    "\n",
    "def print_disease(node):\n",
    "    node = node[0]\n",
    "    val = node.nonzero()\n",
    "    disease = le.inverse_transform(val[0])\n",
    "    return list(map(lambda x: x.strip(), list(disease)))\n",
    "\n",
    "def tree_to_code(tree, feature_names):\n",
    "    tree_ = tree.tree_\n",
    "    feature_name = [\n",
    "        feature_names[i] if i != _tree.TREE_UNDEFINED else \"undefined!\"\n",
    "        for i in tree_.feature\n",
    "    ]\n",
    "\n",
    "    chk_dis = \",\".join(feature_names).split(\",\")\n",
    "    symptoms_present = []\n",
    "\n",
    "    while True:\n",
    "        print(\"\\nEnter the symptom you are experiencing: \", end=\"->\")\n",
    "        disease_input = input(\"\")\n",
    "        conf, cnf_dis = check_pattern(chk_dis, disease_input)\n",
    "        if conf == 1:\n",
    "            print(\"Searches related to input: \")\n",
    "            for num, it in enumerate(cnf_dis):\n",
    "                print(num, \")\", it)\n",
    "            if num != 0:\n",
    "                print(f\"Select the one you meant (0 - {num}): \", end=\"\")\n",
    "                conf_inp = int(input(\"\"))\n",
    "            else:\n",
    "                conf_inp = 0\n",
    "\n",
    "            disease_input = cnf_dis[conf_inp]\n",
    "            break\n",
    "        else:\n",
    "            print(\"Enter a valid symptom.\")\n",
    "\n",
    "    while True:\n",
    "        try:\n",
    "            num_days = int(input(\"From how many days are you experiencing this? : \"))\n",
    "            break\n",
    "        except ValueError:\n",
    "            print(\"Please enter a valid number of days.\")\n",
    "\n",
    "    def recurse(node, depth):\n",
    "        indent = \"  \" * depth\n",
    "        if tree_.feature[node] != _tree.TREE_UNDEFINED:\n",
    "            name = feature_name[node]\n",
    "            threshold = tree_.threshold[node]\n",
    "\n",
    "            if name == disease_input:\n",
    "                val = 1\n",
    "            else:\n",
    "                val = 0\n",
    "            if val <= threshold:\n",
    "                recurse(tree_.children_left[node], depth + 1)\n",
    "            else:\n",
    "                symptoms_present.append(name)\n",
    "                recurse(tree_.children_right[node], depth + 1)\n",
    "        else:\n",
    "            present_disease = print_disease(tree_.value[node])\n",
    "            red_cols = reduced_data.columns\n",
    "            symptoms_given = red_cols[reduced_data.loc[present_disease].values[0].nonzero()]\n",
    "            print(\"Are you experiencing any of these symptoms?\")\n",
    "            symptoms_exp = []\n",
    "            for syms in list(symptoms_given):\n",
    "                inp = \"\"\n",
    "                print(syms, \"? : \", end='')\n",
    "                while True:\n",
    "                    inp = input(\"\")\n",
    "                    if inp.lower() == \"yes\" or inp.lower() == \"no\":\n",
    "                        break\n",
    "                    else:\n",
    "                        print(\"Please provide proper answers i.e. (yes/no) : \", end=\"\")\n",
    "                if inp.lower() == \"yes\":\n",
    "                    symptoms_exp.append(syms)\n",
    "\n",
    "            second_prediction = sec_predict(symptoms_exp)\n",
    "            calc_condition(symptoms_exp, num_days)\n",
    "            if present_disease[0] == second_prediction[0]:\n",
    "                print(\"You may have \", present_disease[0])\n",
    "                print(description_list[present_disease[0]])\n",
    "\n",
    "            else:\n",
    "                print(\"You may have \", present_disease[0], \"or\", second_prediction[0])\n",
    "                print(description_list[present_disease[0]])\n",
    "                print(description_list[second_prediction[0]])\n",
    "\n",
    "            print(\"Take the following measures : \")\n",
    "            precaution_list = precautionDictionary[present_disease[0]]\n",
    "            for i, j in enumerate(precaution_list):\n",
    "                print(i + 1, \")\", j)\n",
    "\n",
    "            district = input(\"Enter your district: \")\n",
    "            hospital_name = hospital_data.get(district, {}).get(present_disease[0])\n",
    "            if hospital_name:\n",
    "                print(\"Recommended Hospital:\", hospital_name)\n",
    "            else:\n",
    "                print(\"No hospital found for the given district and disease.\")\n",
    "\n",
    "    recurse(0, 1)\n",
    "\n",
    "def main():\n",
    "    getDescription()\n",
    "    getSeverityDict()\n",
    "    getprecautionDict()\n",
    "    getInfo()\n",
    "    tree_to_code(clf, cols)\n",
    "    print(\"----------------------------------------------------------------------------------------\")\n",
    "\n",
    "if __name__ == \"__main__\":\n",
    "    main()\n"
   ]
  },
  {
   "cell_type": "code",
   "execution_count": null,
   "id": "57e0ef87-1b11-498c-a4d2-6cdeb0bab76a",
   "metadata": {},
   "outputs": [],
   "source": []
  }
 ],
 "metadata": {
  "kernelspec": {
   "display_name": "Python 3 (ipykernel)",
   "language": "python",
   "name": "python3"
  },
  "language_info": {
   "codemirror_mode": {
    "name": "ipython",
    "version": 3
   },
   "file_extension": ".py",
   "mimetype": "text/x-python",
   "name": "python",
   "nbconvert_exporter": "python",
   "pygments_lexer": "ipython3",
   "version": "3.9.7"
  }
 },
 "nbformat": 4,
 "nbformat_minor": 5
}
